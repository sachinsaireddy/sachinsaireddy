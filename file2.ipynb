{
 "cells": [
  {
   "cell_type": "code",
   "execution_count": 1,
   "metadata": {},
   "outputs": [],
   "source": [
    "\n",
    "import numpy as np\n",
    "import matplotlib.pyplot as plt\n",
    "import cv2\n",
    "\n",
    "img =cv2.imread(\"pout-dark.jpg\",0)\n",
    "orginal =cv2.imread(\"pout-dark.jpg\",0)\n",
    "ref_image=cv2.imread(\"pout-bright.jpg\",0)\n",
    "\n",
    "\n",
    "org_hist = np.zeros((256,))\n",
    "org_equ_hist = np.zeros((256,))\n",
    "height,width=img.shape\n",
    "\n",
    "for i in range(width):\n",
    "    for j in range(height):\n",
    "        temp = orginal[j,i]\n",
    "        org_hist[temp] = org_hist[temp]+1\n",
    "\n",
    "for i in range(256):\n",
    "    for j in range(i+1):\n",
    "        org_equ_hist[i] += org_hist[j] * (1.0/(height*width))\n",
    "    org_equ_hist[i] = round(org_equ_hist[i] * 255);\n",
    "\n",
    "org_equ_hist=org_equ_hist.astype(np.uint8)\n",
    "\n",
    "ref_hist = np.zeros((256,))\n",
    "ref_equ_hist = np.zeros((256,))\n",
    "height2,width2=ref_image.shape\n",
    "\n",
    "for i in range(width2):\n",
    "    for j in range(height2):\n",
    "        temp = ref_image[j,i]\n",
    "        ref_hist[temp] = ref_hist[temp]+1\n",
    "\n",
    "for i in range(256):\n",
    "    for j in range(i+1):\n",
    "        ref_equ_hist[i] += ref_hist[j] * (1.0/(height2*width2))\n",
    "    ref_equ_hist[i] = round(ref_equ_hist[i] * 255);\n",
    "\n",
    "ref_equ_hist=ref_equ_hist.astype(np.uint8)\n",
    "\n",
    "\n",
    "\n",
    "\n",
    "vals={}\n",
    "for i in range(len(ref_equ_hist)):\n",
    "    if i in vals:\n",
    "        vals[i]=(vals[i]+ref_equ_hist[i])/2\n",
    "    else:\n",
    "        vals[i]=ref_equ_hist[i]\n",
    "\n",
    "for i in range(width):\n",
    "    for j in range(height):\n",
    "        temp2 = img[j,i]\n",
    "        temp3= org_equ_hist[temp2]\n",
    "\n",
    "        for a,b in vals.items():\n",
    "            if b==temp3:\n",
    "                img[j,i]=a\n",
    "\n",
    "      \n",
    "\n",
    "final = np.concatenate((orginal, img), axis=1)\n",
    "cv2.imshow('Orginal-After Histogram Matching',final)\n",
    "\n",
    "\n",
    "cv2.waitKey(0)\n",
    "cv2.destroyAllWindows()"
   ]
  }
 ],
 "metadata": {
  "kernelspec": {
   "display_name": "Python 3",
   "language": "python",
   "name": "python3"
  },
  "language_info": {
   "codemirror_mode": {
    "name": "ipython",
    "version": 3
   },
   "file_extension": ".py",
   "mimetype": "text/x-python",
   "name": "python",
   "nbconvert_exporter": "python",
   "pygments_lexer": "ipython3",
   "version": "3.11.0rc2"
  },
  "orig_nbformat": 4,
  "vscode": {
   "interpreter": {
    "hash": "57c6c92a57c14c0eac8aa997c7a7f5c95d85cf119d4e2d9e2709c4cb48db1900"
   }
  }
 },
 "nbformat": 4,
 "nbformat_minor": 2
}
