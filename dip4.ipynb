{
 "cells": [
  {
   "cell_type": "code",
   "execution_count": 1,
   "metadata": {},
   "outputs": [],
   "source": [
    "# cs20b1088 G.sachin sai reddy\n",
    "import cv2\n",
    "import numpy as np\n",
    "import math\n",
    "\n",
    "def rotate_image(image, angle, center=None, scale=1.0):\n",
    "\n",
    "    h, w = image.shape[:2]\n",
    "\n",
    "    # If center is not specified, set it to the center of the image\n",
    "    # this is for rotation w.r.t center.\n",
    "    if center is None:\n",
    "        center = (w // 2, h // 2)\n",
    "    M = cv2.getRotationMatrix2D(center, angle, scale)\n",
    "    rotated_predefined = cv2.warpAffine(image, M, (w, h), flags=cv2.INTER_LINEAR, borderMode=cv2.BORDER_REPLICATE)\n",
    "\n",
    "    # Get the rotation matrix\n",
    "    # used to convert degrees to radians\n",
    "    theta = angle * np.pi / 180\n",
    "    c, s = np.cos(theta), np.sin(theta)\n",
    "\n",
    "\n",
    "    rotated = np.zeros_like(image)\n",
    "    for i in range(h):\n",
    "        for j in range(w):\n",
    "            x, y = i - center[0], j - center[1]\n",
    "            new_x, new_y = int(round(x * c + y * s)), int(round(-x * s + y * c))\n",
    "            if 0 <= new_x + center[0] < h and 0 <= new_y + center[1] < w:\n",
    "                x1, y1 = new_x + center[0], new_y + center[1]\n",
    "                x2, y2 = x1 + 1, y1 + 1\n",
    "                a, b = x1 - new_x - center[0], y1 - new_y - center[1]\n",
    "                # below is bilinear interpolation\n",
    "                if 0 <= x1 < h and 0 <= y1 < w and 0 <= x2 < h and 0 <= y2 < w:\n",
    "                    rotated[i, j] = (1 - a) * (1 - b) * image[x1, y1] + a * (1 - b) * image[x1, y2] + (1 - a) * b * \\\n",
    "                                    image[x2, y1] + a * b * image[x2, y2]\n",
    "    return rotated, rotated_predefined\n",
    "\n",
    "\n",
    "# Load the image\n",
    "img = cv2.imread(r\"C:\\Users\\sachi\\OneDrive\\Desktop\\S6\\DIP\\PISA.jpg\")\n",
    "\n",
    "# Rotate the image by 6 degrees\n",
    "rotated, rotated_predefined = rotate_image(img, 5.5)\n",
    "\n",
    "# Show the result\n",
    "cv2.imshow(\"Rotated\", rotated)\n",
    "cv2.waitKey(0)\n",
    "cv2.destroyAllWindows()\n",
    "\n",
    "cv2.imshow(\"rotated_predefined\", rotated_predefined)\n",
    "cv2.waitKey(0)\n",
    "cv2.destroyAllWindows()"
   ]
  }
 ],
 "metadata": {
  "kernelspec": {
   "display_name": "Python 3",
   "language": "python",
   "name": "python3"
  },
  "language_info": {
   "codemirror_mode": {
    "name": "ipython",
    "version": 3
   },
   "file_extension": ".py",
   "mimetype": "text/x-python",
   "name": "python",
   "nbconvert_exporter": "python",
   "pygments_lexer": "ipython3",
   "version": "3.9.13"
  },
  "orig_nbformat": 4,
  "vscode": {
   "interpreter": {
    "hash": "ad2bdc8ecc057115af97d19610ffacc2b4e99fae6737bb82f5d7fb13d2f2c186"
   }
  }
 },
 "nbformat": 4,
 "nbformat_minor": 2
}
